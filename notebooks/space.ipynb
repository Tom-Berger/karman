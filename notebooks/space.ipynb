{
 "cells": [
  {
   "cell_type": "code",
   "execution_count": null,
   "source": [
    "import pandas as pd\n",
    "import torch\n",
    "from tqdm import tqdm\n",
    "import torch\n",
    "from torch.utils.data import DataLoader\n",
    "import numpy as np\n",
    "import karman\n",
    "from karman.nn import *\n",
    "import os\n",
    "from torch.utils.data import Subset\n",
    "from torch import nn\n",
    "import argparse\n",
    "from pyfiglet import Figlet\n",
    "from termcolor import colored\n",
    "from dataclasses import dataclass\n",
    "from matplotlib import pyplot as plt\n",
    "import imageio\n",
    "from PIL import Image\n",
    "import io\n",
    "from IPython.display import Image\n",
    "from astropy.time import Time\n",
    "import astropy"
   ],
   "outputs": [],
   "metadata": {}
  },
  {
   "cell_type": "code",
   "execution_count": null,
   "source": [
    "time_and_position_based_features_to_calculate = [\n",
    "    'all__day_of_year__[d]',\n",
    "    'all__seconds_in_day__[s]',\n",
    "    'all__sun_right_ascension__[rad]',\n",
    "    'all__sun_declination__[rad]',\n",
    "    'all__sidereal_time__[rad]',\n",
    "    'tudelft_thermo__longitude__[deg]',\n",
    "    'tudelft_thermo__latitude__[deg]'\n",
    "    'tudelft_thermo__local_solar_time__[h]']\n",
    "\n",
    "def create_datapoint(date, longitude, latitude, altitude):\n",
    "    sample = {}\n",
    "    date = pd.to_datetime(date)\n",
    "    second_in_day = 3600*date.hour + 60*date.minute + date.second\n",
    "    day_of_year = date.day_of_year\n",
    "    t=Time(str(date),location=(f'{longitude}d', f'{latitude}d'))\n",
    "    sunpos=astropy.coordinates.get_sun(t)\n",
    "    sun_ra = sunpos.ra.rad\n",
    "    sun_dec = sunpos.dec.rad\n",
    "    side_real = t.sidereal_time('mean').rad\n",
    "    lst = (second_in_day/3600.0 + longitude/15.)\n",
    "\n",
    "    sample['all__seconds_in_day__[s]_sin'] = np.sin(2*np.pi*second_in_day/(24.0*60*60))\n",
    "    sample['all__seconds_in_day__[s]_cos'] = np.cos(2*np.pi*second_in_day/(24.0*60*60))\n",
    "\n",
    "    sample['all__day_of_year__[d]_sin'] = np.sin(2*np.pi*day_of_year/366.0)\n",
    "    sample['all__day_of_year__[d]_cos'] = np.cos(2*np.pi*day_of_year/366.0)\n",
    "\n",
    "    sample['all__sun_right_ascension__[rad]_sin'] = np.sin(sun_ra)\n",
    "    sample['all__sun_right_ascension__[rad]_cos'] = np.cos(sun_ra)\n",
    "\n",
    "    sample['all__sun_declination__[rad]_sin'] = np.sin(sun_dec)\n",
    "    sample['all__sun_declination__[rad]_cos'] = np.cos(sun_dec)\n",
    "\n",
    "    sample['all__sidereal_time__[rad]_sin'] = np.sin(side_real)\n",
    "    sample['all__sidereal_time__[rad]_cos'] = np.cos(side_real)\n",
    "\n",
    "    sample['tudelft_thermo__local_solar_time__[h]_sin'] = np.sin(2*np.pi*((lst + 12.0)/48))\n",
    "    sample['tudelft_thermo__local_solar_time__[h]_cos'] = np.cos(2*np.pi*((lst + 12.0)/48))\n",
    "\n",
    "    sample['tudelft_thermo__latitude__[deg]'] = float(latitude)\n",
    "\n",
    "    sample['tudelft_thermo__longitude__[deg]_sin'] = np.sin(2*np.pi*((longitude + 180)/360.0))\n",
    "    sample['tudelft_thermo__longitude__[deg]_cos'] = np.cos(2*np.pi*((longitude + 180)/360.0))\n",
    "\n",
    "    sample['all__year__[y]'] = float(date.year)\n",
    "    sample['tudelft_thermo__altitude__[m]'] = altitude\n",
    "    return sample"
   ],
   "outputs": [],
   "metadata": {}
  },
  {
   "cell_type": "code",
   "execution_count": null,
   "source": [
    "model_path = '/home/jupyter/karman-project/output_directory/best_model_NoFism2DailyFeedForward_2022-09-05 15:10:48.827248_fold_1'\n",
    "#Stick to this convention 'best_model' is the model of interest.\n",
    "model_opt=torch.load(model_path)['opt']"
   ],
   "outputs": [],
   "metadata": {}
  },
  {
   "cell_type": "code",
   "execution_count": null,
   "source": [
    "dataset=karman.ThermosphericDensityDataset(\n",
    "        directory='/home/jupyter/karman-project/data_directory',\n",
    "        lag_minutes_omni=model_opt.lag_minutes_omni,\n",
    "        lag_minutes_fism2_flare_stan_bands=model_opt.lag_fism2_minutes_flare_stan_bands,\n",
    "        omni_resolution=model_opt.omni_resolution,\n",
    "        fism2_flare_stan_bands_resolution=model_opt.fism2_flare_stan_bands_resolution,\n",
    "        fism2_daily_stan_bands_resolution=model_opt.fism2_daily_stan_bands_resolution,\n",
    "        features_to_exclude_thermo=model_opt.features_to_exclude_thermo.split(','),\n",
    "        features_to_exclude_omni=model_opt.features_to_exclude_omni.split(','),\n",
    "        features_to_exclude_fism2_flare_stan_bands=model_opt.features_to_exclude_fism2_flare_stan_bands.split(','),\n",
    "        features_to_exclude_fism2_daily_stan_bands=model_opt.features_to_exclude_fism2_daily_stan_bands.split(','),\n",
    "        create_cyclical_features=model_opt.cyclical_features,\n",
    "        max_date='2022-06-01'\n",
    "    )"
   ],
   "outputs": [],
   "metadata": {}
  },
  {
   "cell_type": "code",
   "execution_count": null,
   "source": [
    "latitude = 0\n",
    "longitude = 0\n",
    "altitude = 200_000\n",
    "sample_data = create_datapoint(pd.to_datetime('2022-02-01'), longitude, latitude, altitude)\n",
    "\n",
    "date = pd.to_datetime('2022-02-01')\n",
    "location_nearest_date = (dataset.data_thermo['data']['all__dates_datetime__']-date).abs().argsort()[:1]\n",
    "data = dataset.data_thermo['data'].iloc[location_nearest_date, :].copy()\n",
    "for key, value in sample_data.items():\n",
    "    data.at[location_nearest_date, key] = value\n",
    "\n",
    "model_ready_input = dataset.data_thermo['scaler'].transform(data.drop(columns=dataset.features_to_exclude_thermo+dataset.cyclical_features))"
   ],
   "outputs": [],
   "metadata": {}
  },
  {
   "cell_type": "code",
   "execution_count": null,
   "source": [
    "set(dataset.data_thermo['data'].columns) - set(sample_data.keys())"
   ],
   "outputs": [],
   "metadata": {}
  },
  {
   "cell_type": "code",
   "execution_count": null,
   "source": [
    "dataset.features_to_exclude_thermo"
   ],
   "outputs": [],
   "metadata": {}
  },
  {
   "cell_type": "code",
   "execution_count": null,
   "source": [
    "dataset.data_thermo['data'].columns"
   ],
   "outputs": [],
   "metadata": {}
  },
  {
   "cell_type": "code",
   "execution_count": null,
   "source": [
    "(dataset.data_thermo['data'][dataset.data_thermo['data']['all__dates_datetime__'] == nearest_date]).columns"
   ],
   "outputs": [],
   "metadata": {}
  },
  {
   "cell_type": "code",
   "execution_count": null,
   "source": [
    "dataset.__getdate__(pd.to_datetime('2022-02-01'))"
   ],
   "outputs": [],
   "metadata": {}
  },
  {
   "cell_type": "code",
   "execution_count": null,
   "source": [
    "from matplotlib import pyplot as plt\n",
    "date_start = '2022-01-01'\n",
    "date_end = '2022-02-28'\n",
    "\n",
    "for column in dataset.time_series_data['omni']['data'].columns:\n",
    "    dataset.time_series_data['omni']['data'].loc[date_start:date_end].plot(y=[column])\n",
    "    plt.xlabel('')\n",
    "    plt.show()\n",
    "\n",
    "dataset.time_series_data['omni']['data']['mag_bsn_pos'] = dataset.time_series_data['omni']['data']['omniweb__bsnz_gse__[Re]']**2 + \\\n",
    "    dataset.time_series_data['omni']['data']['omniweb__bsnx_gse__[Re]']**2 +\\\n",
    "    dataset.time_series_data['omni']['data']['omniweb__bsny_gse__[Re]']**2\n",
    "\n",
    "dataset.time_series_data['omni']['data'].loc[date_start:date_end].plot(y=['mag_bsn_pos'])\n",
    "plt.xlabel('')\n",
    "plt.show()\n",
    "\n",
    "for column in dataset.time_series_data['fism2_flare_stan_bands']['data'].columns:\n",
    "    dataset.time_series_data['fism2_flare_stan_bands']['data'].loc[date_start:date_end].plot(y=[column])\n",
    "    plt.xlabel('')\n",
    "    plt.show()"
   ],
   "outputs": [],
   "metadata": {}
  }
 ],
 "metadata": {
  "orig_nbformat": 4,
  "language_info": {
   "name": "python",
   "version": "3.7.12",
   "mimetype": "text/x-python",
   "codemirror_mode": {
    "name": "ipython",
    "version": 3
   },
   "pygments_lexer": "ipython3",
   "nbconvert_exporter": "python",
   "file_extension": ".py"
  },
  "kernelspec": {
   "name": "python3",
   "display_name": "Python 3.7.12 64-bit ('base': conda)"
  },
  "interpreter": {
   "hash": "98b0a9b7b4eaaa670588a142fd0a9b87eaafe866f1db4228be72b4211d12040f"
  }
 },
 "nbformat": 4,
 "nbformat_minor": 2
}