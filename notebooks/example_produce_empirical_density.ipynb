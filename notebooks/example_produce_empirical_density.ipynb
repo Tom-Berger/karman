{
 "cells": [
  {
   "cell_type": "code",
   "execution_count": 16,
   "id": "df8452a2",
   "metadata": {},
   "outputs": [
    {
     "name": "stdout",
     "output_type": "stream",
     "text": [
      "The space weather data 'SW-All.txt' in /Users/giacomoacciarini/src/sw-data/ is already the latest.\n",
      "The space weather data 'SOLFSMY.TXT' and 'DTCFILE.TXT' in /Users/giacomoacciarini/src/sw-data/ is already the latest.\n"
     ]
    }
   ],
   "source": [
    "from pyatmos import download_sw_nrlmsise00, read_sw_nrlmsise00, download_sw_jb2008,read_sw_jb2008\n",
    "\n",
    "swfile_nrlmsise = download_sw_nrlmsise00()\n",
    "swfile_jb08 = download_sw_jb2008()\n",
    "\n",
    "swdata_nrlmsise = read_sw_nrlmsise00(swfile_nrlmsise)\n",
    "swdata_jb08 = read_sw_jb2008(swfile_jb08)\n",
    "\n"
   ]
  },
  {
   "cell_type": "code",
   "execution_count": null,
   "id": "b43f8a84",
   "metadata": {},
   "outputs": [],
   "source": [
    "from pyatmos import nrlmsise00, jb2008\n",
    "\n",
    "alt=450#km\n",
    "lats=range(-90,90)#between -90,90\n",
    "lons=range(-180,180)#between -180,180\n",
    "date=datetime.datetime(2010,10,10)\n",
    "\n",
    "for lat in lats:\n",
    "    for lon in lons:\n",
    "        density_nrlmsise = nrlmsise00(date, (lat, lon, alt), swdata_nrlmsise).rho\n",
    "        density_jb08 = jb2008(date, (float(lat), float(lon), float(alt)), swdata_jb08).rho\n",
    "        #print(density_nrlmsise, density_jb08)\n",
    "        "
   ]
  },
  {
   "cell_type": "code",
   "execution_count": null,
   "id": "48cac042",
   "metadata": {},
   "outputs": [],
   "source": []
  }
 ],
 "metadata": {
  "kernelspec": {
   "display_name": "Python 3 (ipykernel)",
   "language": "python",
   "name": "python3"
  },
  "language_info": {
   "codemirror_mode": {
    "name": "ipython",
    "version": 3
   },
   "file_extension": ".py",
   "mimetype": "text/x-python",
   "name": "python",
   "nbconvert_exporter": "python",
   "pygments_lexer": "ipython3",
   "version": "3.8.13"
  }
 },
 "nbformat": 4,
 "nbformat_minor": 5
}
