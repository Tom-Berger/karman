{
 "cells": [
  {
   "cell_type": "code",
   "execution_count": 22,
   "source": [
    "import pandas as pd\n",
    "import torch\n",
    "from tqdm import tqdm\n",
    "import torch\n",
    "from torch.utils.data import DataLoader\n",
    "import numpy as np\n",
    "import karman\n",
    "from karman.nn import *\n",
    "import os\n",
    "import argparse\n",
    "from karman import Benchmark"
   ],
   "outputs": [],
   "metadata": {}
  },
  {
   "cell_type": "code",
   "execution_count": 23,
   "source": [
    "def load_model(model_path,\n",
    "               data_directory='/home/jupyter/karman-project/data_directory'):\n",
    "  \n",
    "    print('Loading Data')\n",
    "    model_opt=torch.load(model_path)['opt']\n",
    "    print(model_opt)\n",
    "\n",
    "    dataset=karman.ThermosphericDensityDataset(\n",
    "        directory=data_directory,\n",
    "        features_to_exclude_thermo=model_opt.features_to_exclude_thermo.split(','),\n",
    "        create_cyclical_features=True,\n",
    "        max_altitude=model_opt.max_altitude,\n",
    "    )\n",
    "\n",
    "    print('Loading Model')\n",
    "\n",
    "    if model_opt.model == 'NoFism2FlareAndDailyAndOmniFeedForward':\n",
    "        model = SimpleNN(dropout=model_opt.dropout).to(dtype=torch.float32)\n",
    "\n",
    "    state_dict = torch.load(os.path.join(model_path))['state_dict']\n",
    "    #Sanitize state_dict key names\n",
    "    for key in list(state_dict.keys()):\n",
    "        if key.startswith('module'):\n",
    "        # Model was saved as dataparallel model\n",
    "            # Remove 'module.' from start of key\n",
    "            state_dict[key[7:]] = state_dict.pop(key)\n",
    "        else:\n",
    "            continue\n",
    "    model.load_state_dict(state_dict)\n",
    "\n",
    "    # infer model fold from path given\n",
    "    # assumes model follows format: 'model_name_fold_x_seed_0' and uses 'x' as the fold\n",
    "    fold = int(model_path.split('fold')[-1][1])\n",
    "\n",
    "    test_month_idx = 2 * (int(fold) - 1)\n",
    "    validation_month_idx = test_month_idx + 2\n",
    "    dataset._set_indices(test_month_idx=[test_month_idx], validation_month_idx=[validation_month_idx])\n",
    "\n",
    "    #Need to do this if using the LazyLinear Module (avoids having to hard code input layers to a linear layer)\n",
    "    dummy_loader = torch.utils.data.DataLoader(dataset.validation_dataset(),\n",
    "                                               batch_size=2,\n",
    "                                               pin_memory=False,\n",
    "                                               num_workers=0,\n",
    "                                               drop_last=True)\n",
    "    model.forward(next(iter(dummy_loader)))\n",
    "    return model, dataset"
   ],
   "outputs": [],
   "metadata": {}
  },
  {
   "cell_type": "code",
   "execution_count": 25,
   "source": [
    "def benchmark_model(model_path,\n",
    "                    batch_size=512,\n",
    "                    num_workers=30,\n",
    "                    data_directory='/home/jupyter/karman-project/data_directory',\n",
    "                    output_save='/home/jupyter/karman-project/benchmark_results',\n",
    "                    model_name='model'):\n",
    "    \"\"\"\n",
    "    Given a model path, this method loads the model and benchmarks for that stored model.\n",
    "    \"\"\"\n",
    "    model, dataset = load_model(model_path)\n",
    "    device = torch.device('cuda' if torch.cuda.is_available() else 'cpu')\n",
    "    model = model.to(device)\n",
    "\n",
    "    return Benchmark(\n",
    "        batch_size=batch_size,\n",
    "        num_workers=num_workers,\n",
    "        data_directory=data_directory,\n",
    "        output_directory=output_save,\n",
    "        model_name=model_name).evaluate_model(dataset, model)"
   ],
   "outputs": [],
   "metadata": {}
  },
  {
   "cell_type": "code",
   "execution_count": 31,
   "source": [
    "def benchmark_model_folder(folder_path,\n",
    "                           batch_size=512,\n",
    "                           num_workers=30,\n",
    "                           data_directory='/home/jupyter/karman-project/data_directory',\n",
    "                           output_save='/home/jupyter/karman-project/benchmark_results',\n",
    "                           model_name='model'):\n",
    "    \"\"\"\n",
    "    This method takes all models in a folder and benchmarks them. These models should all be\n",
    "    the same model but trained on different folds.\n",
    "\n",
    "    It assumes the models end in 'fold_x_seed_y'\n",
    "    \"\"\"\n",
    "    model_paths = [os.path.join(folder_path, f) for f in os.listdir(folder_path) if f[-6:-2] == 'seed']\n",
    "    print('Models to load:', model_paths)\n",
    "    results = []\n",
    "\n",
    "    for model_path in model_paths:\n",
    "        results.append(\n",
    "            benchmark_model(model_path,\n",
    "                            batch_size=batch_size,\n",
    "                            num_workers=num_workers,\n",
    "                            data_directory=data_directory,\n",
    "                            output_save=output_save,\n",
    "                            model_name=model_name)\n",
    "            )\n",
    "\n",
    "    benchmark_results = pd.concat(results, ignore_index=True)\n",
    "    benchmark_results_mean = benchmark_results.dropna().groupby(['Model', 'Metric Type', 'Condition']).mean()\n",
    "    benchmark_results_std = benchmark_results.dropna().groupby(['Model', 'Metric Type', 'Condition']).std()\n",
    "    return benchmark_results_mean, benchmark_results_std\n",
    "\n",
    "\n"
   ],
   "outputs": [],
   "metadata": {}
  },
  {
   "cell_type": "code",
   "execution_count": 32,
   "source": [
    "benchmark_results_means, benchmark_results_stds = benchmark_model_folder('/home/jupyter/karman-project/kml_results/')\n",
    "for row in benchmark_results_means.iterrows():\n",
    "    print(row[0][0], row[0][1], row[0][2], row[1]['Metric Value'])"
   ],
   "outputs": [
    {
     "output_type": "stream",
     "name": "stdout",
     "text": [
      "Models to load: ['/home/jupyter/karman-project/kml_results/kml_fold_2_seed_0', '/home/jupyter/karman-project/kml_results/kml_fold_2_seed_1']\n",
      "Loading Data\n",
      "Namespace(batch_size=256, cyclical_features=True, data_directory='/home/jupyter/karman-project/data_directory', dropout=0.0, epochs=10, epochs_per_validation=1, features_to_exclude_fism2_daily_stan_bands='all__dates_datetime__', features_to_exclude_fism2_flare_stan_bands='all__dates_datetime__', features_to_exclude_omni='all__dates_datetime__,omniweb__id_for_imf_spacecraft__,omniweb__id_for_sw_plasma_spacecraft__,omniweb__#_of_points_in_imf_averages__,omniweb__#_of_points_in_plasma_averages__,omniweb__percent_of_interpolation__,omniweb__timeshift__[s],omniweb__rms_timeshift__[s],omniweb__rms_min_variance__[s**2],omniweb__time_btwn_observations__[s],omniweb__rms_sd_b_scalar__[nT],omniweb__rms_sd_b_field_vector__[nT],omniweb__flow_pressure__[nPa],omniweb__electric_field__[mV/m],omniweb__plasma_beta__,omniweb__alfven_mach_number__,omniweb__magnetosonic_mach_number__,omniweb__s/cx_gse__[Re],omniweb__s/cy_gse__[Re],omniweb__s/cz_gse__[Re]', features_to_exclude_thermo='all__dates_datetime__,tudelft_thermo__satellite__,tudelft_thermo__ground_truth_thermospheric_density__[kg/m**3],NRLMSISE00__thermospheric_density__[kg/m**3],JB08__thermospheric_density__[kg/m**3]', fism2_daily_stan_bands_resolution=1440, fism2_flare_stan_bands_resolution=30, folds='2', hidden_size=200, include_daily_stan_bands=False, include_flare_stan_bands=False, include_omni=False, lag_fism2_minutes_daily_stan_bands=1440, lag_fism2_minutes_flare_stan_bands=360, lag_minutes_omni=360, learning_rate=0.0001, lstm_depth=2, max_altitude=600000, model='NoFism2FlareAndDailyAndOmniFeedForward', num_workers=0, omni_resolution=30, optimizer='adam', out_features=50, output_directory='output_directory', run_benchmark=True, run_name='KML', run_tests=True, seeds=1, train_subsample=None, weight_decay=0.0)\n",
      "Creating thermospheric density dataset\n",
      "Creating cyclical features\n",
      "['all__dates_datetime__', 'tudelft_thermo__satellite__', 'tudelft_thermo__ground_truth_thermospheric_density__[kg/m**3]', 'NRLMSISE00__thermospheric_density__[kg/m**3]', 'JB08__thermospheric_density__[kg/m**3]']\n",
      "['all__day_of_year__[d]', 'all__seconds_in_day__[s]', 'all__sun_right_ascension__[rad]', 'all__sun_declination__[rad]', 'all__sidereal_time__[rad]', 'tudelft_thermo__longitude__[deg]', 'tudelft_thermo__local_solar_time__[h]']\n",
      "Used features: Index(['all__year__[y]', 'tudelft_thermo__altitude__[m]',\n",
      "       'tudelft_thermo__latitude__[deg]',\n",
      "       'space_environment_technologies__f107_average__',\n",
      "       'space_environment_technologies__f107_obs__',\n",
      "       'celestrack__ap_average__', 'celestrack__ap_h_0__',\n",
      "       'celestrack__ap_h_1__', 'celestrack__ap_h_2__', 'celestrack__ap_h_3__',\n",
      "       'celestrack__ap_h_4__', 'celestrack__ap_h_5__', 'celestrack__ap_h_6__',\n",
      "       'space_environment_technologies__s107_obs__',\n",
      "       'space_environment_technologies__s107_average__',\n",
      "       'space_environment_technologies__m107_obs__',\n",
      "       'space_environment_technologies__m107_average__',\n",
      "       'space_environment_technologies__y107_obs__',\n",
      "       'space_environment_technologies__y107_average__', 'JB08__d_st_dt__[K]',\n",
      "       'all__day_of_year__[d]_sin', 'all__day_of_year__[d]_cos',\n",
      "       'all__seconds_in_day__[s]_sin', 'all__seconds_in_day__[s]_cos',\n",
      "       'all__sun_right_ascension__[rad]_sin',\n",
      "       'all__sun_right_ascension__[rad]_cos',\n",
      "       'all__sun_declination__[rad]_sin', 'all__sun_declination__[rad]_cos',\n",
      "       'all__sidereal_time__[rad]_sin', 'all__sidereal_time__[rad]_cos',\n",
      "       'tudelft_thermo__longitude__[deg]_sin',\n",
      "       'tudelft_thermo__longitude__[deg]_cos',\n",
      "       'tudelft_thermo__local_solar_time__[h]_sin',\n",
      "       'tudelft_thermo__local_solar_time__[h]_cos'],\n",
      "      dtype='object')\n"
     ]
    },
    {
     "output_type": "stream",
     "name": "stderr",
     "text": [
      "/opt/conda/lib/python3.7/site-packages/torch/nn/modules/lazy.py:178: UserWarning: Lazy modules are a new feature under heavy development so changes to the API or functionality can happen at any moment.\n",
      "  warnings.warn('Lazy modules are a new feature under heavy development '\n"
     ]
    },
    {
     "output_type": "stream",
     "name": "stdout",
     "text": [
      "\n",
      "Finished Creating dataset.\n",
      "Loading Model\n",
      "Creating training, validation and test sets.\n"
     ]
    },
    {
     "output_type": "stream",
     "name": "stderr",
     "text": [
      "17 years to iterate through.: 100%|██████████| 17/17 [01:46<00:00,  6.24s/it]\n"
     ]
    },
    {
     "output_type": "stream",
     "name": "stdout",
     "text": [
      "Train size: 27719788\n",
      "Validation size: 3011830\n",
      "Test size: 2575188\n"
     ]
    },
    {
     "output_type": "stream",
     "name": "stderr",
     "text": [
      "100%|██████████| 5030/5030 [00:25<00:00, 195.86it/s]\n"
     ]
    },
    {
     "output_type": "stream",
     "name": "stdout",
     "text": [
      "Ignoring outliers...\n",
      "Removed 14 entries with outlier densities below 1e-17\n",
      "Evaluating Storm Condition Results.\n",
      "Saving results to /home/jupyter/karman-project/benchmark_results/model_results.csv\n",
      "Loading Data\n",
      "Namespace(batch_size=256, cyclical_features=True, data_directory='/home/jupyter/karman-project/data_directory', dropout=0.0, epochs=10, epochs_per_validation=1, features_to_exclude_fism2_daily_stan_bands='all__dates_datetime__', features_to_exclude_fism2_flare_stan_bands='all__dates_datetime__', features_to_exclude_omni='all__dates_datetime__,omniweb__id_for_imf_spacecraft__,omniweb__id_for_sw_plasma_spacecraft__,omniweb__#_of_points_in_imf_averages__,omniweb__#_of_points_in_plasma_averages__,omniweb__percent_of_interpolation__,omniweb__timeshift__[s],omniweb__rms_timeshift__[s],omniweb__rms_min_variance__[s**2],omniweb__time_btwn_observations__[s],omniweb__rms_sd_b_scalar__[nT],omniweb__rms_sd_b_field_vector__[nT],omniweb__flow_pressure__[nPa],omniweb__electric_field__[mV/m],omniweb__plasma_beta__,omniweb__alfven_mach_number__,omniweb__magnetosonic_mach_number__,omniweb__s/cx_gse__[Re],omniweb__s/cy_gse__[Re],omniweb__s/cz_gse__[Re]', features_to_exclude_thermo='all__dates_datetime__,tudelft_thermo__satellite__,tudelft_thermo__ground_truth_thermospheric_density__[kg/m**3],NRLMSISE00__thermospheric_density__[kg/m**3],JB08__thermospheric_density__[kg/m**3]', fism2_daily_stan_bands_resolution=1440, fism2_flare_stan_bands_resolution=30, folds='2', hidden_size=200, include_daily_stan_bands=False, include_flare_stan_bands=False, include_omni=False, lag_fism2_minutes_daily_stan_bands=1440, lag_fism2_minutes_flare_stan_bands=360, lag_minutes_omni=360, learning_rate=0.0001, lstm_depth=2, max_altitude=600000, model='NoFism2FlareAndDailyAndOmniFeedForward', num_workers=0, omni_resolution=30, optimizer='adam', out_features=50, output_directory='output_directory', run_benchmark=True, run_name='KML', run_tests=True, seeds=1, train_subsample=None, weight_decay=0.0)\n",
      "Creating thermospheric density dataset\n",
      "Creating cyclical features\n",
      "['all__dates_datetime__', 'tudelft_thermo__satellite__', 'tudelft_thermo__ground_truth_thermospheric_density__[kg/m**3]', 'NRLMSISE00__thermospheric_density__[kg/m**3]', 'JB08__thermospheric_density__[kg/m**3]']\n",
      "['all__day_of_year__[d]', 'all__seconds_in_day__[s]', 'all__sun_right_ascension__[rad]', 'all__sun_declination__[rad]', 'all__sidereal_time__[rad]', 'tudelft_thermo__longitude__[deg]', 'tudelft_thermo__local_solar_time__[h]']\n",
      "Used features: Index(['all__year__[y]', 'tudelft_thermo__altitude__[m]',\n",
      "       'tudelft_thermo__latitude__[deg]',\n",
      "       'space_environment_technologies__f107_average__',\n",
      "       'space_environment_technologies__f107_obs__',\n",
      "       'celestrack__ap_average__', 'celestrack__ap_h_0__',\n",
      "       'celestrack__ap_h_1__', 'celestrack__ap_h_2__', 'celestrack__ap_h_3__',\n",
      "       'celestrack__ap_h_4__', 'celestrack__ap_h_5__', 'celestrack__ap_h_6__',\n",
      "       'space_environment_technologies__s107_obs__',\n",
      "       'space_environment_technologies__s107_average__',\n",
      "       'space_environment_technologies__m107_obs__',\n",
      "       'space_environment_technologies__m107_average__',\n",
      "       'space_environment_technologies__y107_obs__',\n",
      "       'space_environment_technologies__y107_average__', 'JB08__d_st_dt__[K]',\n",
      "       'all__day_of_year__[d]_sin', 'all__day_of_year__[d]_cos',\n",
      "       'all__seconds_in_day__[s]_sin', 'all__seconds_in_day__[s]_cos',\n",
      "       'all__sun_right_ascension__[rad]_sin',\n",
      "       'all__sun_right_ascension__[rad]_cos',\n",
      "       'all__sun_declination__[rad]_sin', 'all__sun_declination__[rad]_cos',\n",
      "       'all__sidereal_time__[rad]_sin', 'all__sidereal_time__[rad]_cos',\n",
      "       'tudelft_thermo__longitude__[deg]_sin',\n",
      "       'tudelft_thermo__longitude__[deg]_cos',\n",
      "       'tudelft_thermo__local_solar_time__[h]_sin',\n",
      "       'tudelft_thermo__local_solar_time__[h]_cos'],\n",
      "      dtype='object')\n"
     ]
    },
    {
     "output_type": "stream",
     "name": "stderr",
     "text": [
      "/opt/conda/lib/python3.7/site-packages/torch/nn/modules/lazy.py:178: UserWarning: Lazy modules are a new feature under heavy development so changes to the API or functionality can happen at any moment.\n",
      "  warnings.warn('Lazy modules are a new feature under heavy development '\n"
     ]
    },
    {
     "output_type": "stream",
     "name": "stdout",
     "text": [
      "\n",
      "Finished Creating dataset.\n",
      "Loading Model\n",
      "Creating training, validation and test sets.\n"
     ]
    },
    {
     "output_type": "stream",
     "name": "stderr",
     "text": [
      "17 years to iterate through.: 100%|██████████| 17/17 [01:45<00:00,  6.23s/it]\n"
     ]
    },
    {
     "output_type": "stream",
     "name": "stdout",
     "text": [
      "Train size: 27719788\n",
      "Validation size: 3011830\n",
      "Test size: 2575188\n"
     ]
    },
    {
     "output_type": "stream",
     "name": "stderr",
     "text": [
      "100%|██████████| 5030/5030 [00:12<00:00, 394.69it/s]\n"
     ]
    },
    {
     "output_type": "stream",
     "name": "stdout",
     "text": [
      "Ignoring outliers...\n",
      "Removed 14 entries with outlier densities below 1e-17\n",
      "Evaluating Storm Condition Results.\n",
      "Saving results to /home/jupyter/karman-project/benchmark_results/model_results.csv\n"
     ]
    },
    {
     "output_type": "execute_result",
     "data": {
      "text/plain": [
       "(                                    Metric Value\n",
       " Model Metric Type Condition                     \n",
       " JB08  MAPE        1. (0-15) Quiet   4.346949e+01\n",
       "                   2. (15-30) Mild   2.460980e+01\n",
       "                   200km-250km       1.475357e+01\n",
       "                   250km-300km       2.230136e+01\n",
       "                   3. (30-50) Minor  2.381358e+01\n",
       " ...                                          ...\n",
       " model RMSE        4. (50+) Major    1.858496e-11\n",
       "                   400km-450km       1.064800e-13\n",
       "                   450km-500km       7.869352e-14\n",
       "                   500km-550km       4.224416e-14\n",
       "                   No condition      3.163810e-12\n",
       " \n",
       " [72 rows x 1 columns],\n",
       "                                     Metric Value\n",
       " Model Metric Type Condition                     \n",
       " JB08  MAPE        1. (0-15) Quiet            0.0\n",
       "                   2. (15-30) Mild            0.0\n",
       "                   200km-250km                0.0\n",
       "                   250km-300km                0.0\n",
       "                   3. (30-50) Minor           0.0\n",
       " ...                                          ...\n",
       " model RMSE        4. (50+) Major             0.0\n",
       "                   400km-450km                0.0\n",
       "                   450km-500km                0.0\n",
       "                   500km-550km                0.0\n",
       "                   No condition               0.0\n",
       " \n",
       " [72 rows x 1 columns])"
      ]
     },
     "metadata": {},
     "execution_count": 32
    }
   ],
   "metadata": {}
  }
 ],
 "metadata": {
  "orig_nbformat": 4,
  "language_info": {
   "name": "python",
   "version": "3.7.12",
   "mimetype": "text/x-python",
   "codemirror_mode": {
    "name": "ipython",
    "version": 3
   },
   "pygments_lexer": "ipython3",
   "nbconvert_exporter": "python",
   "file_extension": ".py"
  },
  "kernelspec": {
   "name": "python3",
   "display_name": "Python 3.7.12 64-bit ('base': conda)"
  },
  "interpreter": {
   "hash": "98b0a9b7b4eaaa670588a142fd0a9b87eaafe866f1db4228be72b4211d12040f"
  }
 },
 "nbformat": 4,
 "nbformat_minor": 2
}