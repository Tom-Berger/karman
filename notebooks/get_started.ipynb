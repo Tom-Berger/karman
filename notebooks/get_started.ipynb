{
 "cells": [
  {
   "cell_type": "code",
   "execution_count": null,
   "id": "f1403c9b-605a-481d-a9a0-393336cf5a38",
   "metadata": {},
   "outputs": [],
   "source": [
    "import karman"
   ]
  },
  {
   "cell_type": "code",
   "execution_count": 2,
   "id": "a0e39046-30d4-4111-8c6d-937d96fc2472",
   "metadata": {},
   "outputs": [
    {
     "name": "stdout",
     "output_type": "stream",
     "text": [
      "Loading Thermospheric Density Dataset:\n",
      "Loading OMNIWeb (1min) Dataset:\n",
      "Loading FISM2 Daily Irradiance Dataset:\n",
      "Loading FISM2 Flare (10min) Irradiance Dataset:\n"
     ]
    },
    {
     "name": "stderr",
     "output_type": "stream",
     "text": [
      "100%|██████████| 9/9 [00:02<00:00,  4.09it/s]\n"
     ]
    }
   ],
   "source": [
    "dataset=karman.ThermosphericDensityDataset(lag_minutes_omni=10, lag_days_fism2_daily=10, lag_minutes_fism2_flare=150)"
   ]
  },
  {
   "cell_type": "code",
   "execution_count": null,
   "id": "76b6b57b-d6ff-4157-8a5d-ace86c32e9fc",
   "metadata": {},
   "outputs": [
    {
     "name": "stdout",
     "output_type": "stream",
     "text": [
      "Train set proportion: 66.21214440424085 %\n",
      "Validation set proportion: 16.421256649841354 %\n",
      "Test set proportion: 17.3665989459178 %\n"
     ]
    }
   ],
   "source": [
    "import torch\n",
    "from torch.utils.data.sampler import SubsetRandomSampler\n",
    "\n",
    "with open('/home/jupyter/karman-project/scripts/train_indices.txt') as f:\n",
    "    train_indices = [int(line.rstrip()) for line in f]\n",
    "with open('/home/jupyter/karman-project/scripts/val_indices.txt') as f:\n",
    "    val_indices = [int(line.rstrip()) for line in f]\n",
    "with open('/home/jupyter/karman-project/scripts/test_indices.txt') as f:\n",
    "    test_indices = [int(line.rstrip()) for line in f]\n",
    "\n",
    "print(f\"Train set proportion: {len(train_indices)/len(dataset)*100} %\")\n",
    "print(f\"Validation set proportion: {len(val_indices)/len(dataset)*100} %\")\n",
    "print(f\"Test set proportion: {len(test_indices)/len(dataset)*100} %\")\n",
    "\n",
    "#I perform the dataset split, creating train, valid, test dataloaders:\n",
    "train_sampler=SubsetRandomSampler(train_indices)\n",
    "valid_sampler=SubsetRandomSampler(val_indices)\n",
    "test_sampler=SubsetRandomSampler(test_indices)\n",
    "\n",
    "train_loader = torch.utils.data.DataLoader(dataset,\n",
    "                                       batch_size=1024,\n",
    "                                       sampler=train_sampler,\n",
    "                                       pin_memory=True,\n",
    "                                       num_workers=16)\n",
    "valid_loader = torch.utils.data.DataLoader(dataset,\n",
    "                                       batch_size=1024,\n",
    "                                       sampler=valid_sampler,\n",
    "                                       pin_memory=True,\n",
    "                                       num_workers=16)\n",
    "test_loader = torch.utils.data.DataLoader(dataset,\n",
    "                                       batch_size=1024,\n",
    "                                       sampler=test_sampler,\n",
    "                                       pin_memory=True,\n",
    "                                       num_workers=16)"
   ]
  },
  {
   "cell_type": "code",
   "execution_count": 17,
   "id": "70223429-3abf-4ddd-92e4-caece4bd395c",
   "metadata": {},
   "outputs": [],
   "source": [
    "item=next(iter(train_loader))"
   ]
  },
  {
   "cell_type": "code",
   "execution_count": 7,
   "id": "f0f24cf0-202d-4c5a-969b-d99ecfae80a7",
   "metadata": {},
   "outputs": [],
   "source": [
    "from karman import FFNN\n",
    "from torch import optim\n",
    "optimizer=optim.Adam(model.parameters(), lr=1e-4, weight_decay=0.)\n",
    "model = FFNN(num_features=len(dataset[0][0]))\n"
   ]
  },
  {
   "cell_type": "code",
   "execution_count": 19,
   "id": "21ea05fa-2aef-4ce3-a720-c325a214c865",
   "metadata": {},
   "outputs": [
    {
     "data": {
      "text/plain": [
       "torch.Size([1024, 1])"
      ]
     },
     "execution_count": 19,
     "metadata": {},
     "output_type": "execute_result"
    }
   ],
   "source": [
    "inp,targ=item\n",
    "\n",
    "model(inp).shape"
   ]
  },
  {
   "cell_type": "code",
   "execution_count": null,
   "id": "d7bd0392-7d8f-4d7f-8544-08939d20f443",
   "metadata": {},
   "outputs": [],
   "source": []
  }
 ],
 "metadata": {
  "environment": {
   "kernel": "python3",
   "name": "common-cpu.m93",
   "type": "gcloud",
   "uri": "gcr.io/deeplearning-platform-release/base-cpu:m93"
  },
  "kernelspec": {
   "display_name": "Python 3",
   "language": "python",
   "name": "python3"
  },
  "language_info": {
   "codemirror_mode": {
    "name": "ipython",
    "version": 3
   },
   "file_extension": ".py",
   "mimetype": "text/x-python",
   "name": "python",
   "nbconvert_exporter": "python",
   "pygments_lexer": "ipython3",
   "version": "3.7.12"
  }
 },
 "nbformat": 4,
 "nbformat_minor": 5
}
