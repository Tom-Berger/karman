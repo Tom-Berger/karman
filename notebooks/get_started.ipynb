{
 "cells": [
  {
   "cell_type": "code",
   "execution_count": 1,
   "id": "f1403c9b-605a-481d-a9a0-393336cf5a38",
   "metadata": {},
   "outputs": [],
   "source": [
    "import karman"
   ]
  },
  {
   "cell_type": "code",
   "execution_count": 2,
   "id": "a0e39046-30d4-4111-8c6d-937d96fc2472",
   "metadata": {},
   "outputs": [
    {
     "name": "stdout",
     "output_type": "stream",
     "text": [
      "Loading Thermospheric Density Dataset:\n",
      "Loading OMNIWeb (1min) Dataset:\n",
      "Loading FISM2 Daily Irradiance Dataset:\n",
      "Loading FISM2 Flare (10min) Irradiance Dataset:\n"
     ]
    },
    {
     "name": "stderr",
     "output_type": "stream",
     "text": [
      "100%|██████████| 232/232 [01:18<00:00,  2.94it/s]\n"
     ]
    },
    {
     "name": "stdout",
     "output_type": "stream",
     "text": [
      "\n",
      "Normalizing data:\n",
      "\n",
      "Normalizing thermospheric data, features: ['all__day_of_year__[d]', 'all__year__[y]', 'all__seconds_in_day__[s]', 'tudelft_thermo__altitude__[m]', 'tudelft_thermo__longitude__[deg]', 'tudelft_thermo__latitude__[deg]', 'tudelft_thermo__local_solar_time__[h]', 'space_environment_technologies__f107_average__', 'space_environment_technologies__f107_obs__', 'celestrack__ap_average__', 'celestrack__ap_h_0__', 'celestrack__ap_h_1__', 'celestrack__ap_h_2__', 'celestrack__ap_h_3__', 'celestrack__ap_h_4__', 'celestrack__ap_h_5__', 'celestrack__ap_h_6__', 'all__sun_right_ascension__[rad]', 'all__sun_declination__[rad]', 'all__sidereal_time__[rad]', 'space_environment_technologies__s107_obs__', 'space_environment_technologies__s107_average__', 'space_environment_technologies__m107_obs__', 'space_environment_technologies__m107_average__', 'space_environment_technologies__y107_obs__', 'space_environment_technologies__y107_average__', 'JB08__d_st_dt__[K]']\n",
      "\n",
      "Normalizing omniweb data, features: ['omniweb__imf_magnitude_average__[nT]', 'omniweb__bx_gse/gsm__[nT]', 'omniweb__by_gse__[nT]', 'omniweb__bz_gse__[nT]', 'omniweb__by_gsm__[nT]', 'omniweb__bz_gsm__[nT]', 'omniweb__speed__[km/s]', 'omniweb__vx_gse__[nT]', 'omniweb__vy_gse__[nT]', 'omniweb__vz_gse__[nT]', 'omniweb__proton_density__[n/cc]', 'omniweb__proton_temperature__[K]', 'omniweb__bsnx_gse__[Re]', 'omniweb__bsny_gse__[Re]', 'omniweb__bsnz_gse__[Re]', 'omniweb__ae_index__[nT]', 'omniweb__al_index__[nT]', 'omniweb__au_index__[nT]', 'omniweb__sym/d_index__[nT]', 'omniweb__sym/h_index__[nT]', 'omniweb__asy/d_index__[nT]', 'omniweb__asy/h_index__[nT]', 'omniweb__pcn_index__']\n",
      "\n",
      "Normalizing irradiance, features: ['fism2_flare__irradiance__[W/m**2/nm]'] and Index(['fism2_daily__irradiance__[W/m**2/nm]'], dtype='object')\n"
     ]
    },
    {
     "name": "stderr",
     "output_type": "stream",
     "text": [
      "100%|██████████| 1900/1900 [01:24<00:00, 22.46it/s]\n"
     ]
    },
    {
     "name": "stdout",
     "output_type": "stream",
     "text": [
      "\n",
      "Normalizing ground truth thermospheric density, feature name: tudelft_thermo__ground_truth_thermospheric_density__[kg/m**3]\n"
     ]
    }
   ],
   "source": [
    "dataset=karman.ThermosphericDensityDataset(lag_minutes_omni=10, lag_days_fism2_daily=10, lag_minutes_fism2_flare=100, normalize=True)"
   ]
  },
  {
   "cell_type": "code",
   "execution_count": 3,
   "id": "2d9f8774-d7cf-4dda-a280-8297f3ddb77b",
   "metadata": {},
   "outputs": [
    {
     "name": "stdout",
     "output_type": "stream",
     "text": [
      "Train set length: 25032646, proportion: 66.21185018172743 %\n",
      "Validation set length: 6208340, proportion: 16.421183679792605 %\n",
      "Test set length: 6565743, proportion: 17.366521775114208 %\n"
     ]
    }
   ],
   "source": [
    "import torch\n",
    "from torch.utils.data.sampler import SubsetRandomSampler\n",
    "\n",
    "with open('/home/jupyter/karman-project/scripts/train_indices.txt') as f:\n",
    "    train_indices = [int(line.rstrip()) for line in f]\n",
    "with open('/home/jupyter/karman-project/scripts/val_indices.txt') as f:\n",
    "    val_indices = [int(line.rstrip()) for line in f]\n",
    "with open('/home/jupyter/karman-project/scripts/test_indices.txt') as f:\n",
    "    test_indices = [int(line.rstrip()) for line in f]\n",
    "\n",
    "print(f\"Train set length: {len(train_indices)}, proportion: {len(train_indices)/len(dataset)*100} %\")\n",
    "print(f\"Validation set length: {len(val_indices)}, proportion: {len(val_indices)/len(dataset)*100} %\")\n",
    "print(f\"Test set length: {len(test_indices)}, proportion: {len(test_indices)/len(dataset)*100} %\")\n",
    "\n",
    "#I perform the dataset split, creating train, valid, test dataloaders:\n",
    "train_sampler=SubsetRandomSampler(train_indices)\n",
    "valid_sampler=SubsetRandomSampler(val_indices)\n",
    "test_sampler=SubsetRandomSampler(test_indices)\n",
    "\n",
    "train_loader = torch.utils.data.DataLoader(dataset,\n",
    "                                       batch_size=1024,\n",
    "                                       sampler=train_sampler,\n",
    "                                       pin_memory=True,\n",
    "                                       num_workers=16)\n",
    "valid_loader = torch.utils.data.DataLoader(dataset,\n",
    "                                       batch_size=1024,\n",
    "                                       sampler=valid_sampler,\n",
    "                                       pin_memory=True,\n",
    "                                       num_workers=16)\n",
    "test_loader = torch.utils.data.DataLoader(dataset,\n",
    "                                       batch_size=1024,\n",
    "                                       sampler=test_sampler,\n",
    "                                       pin_memory=True,\n",
    "                                       num_workers=16)"
   ]
  },
  {
   "cell_type": "code",
   "execution_count": 4,
   "id": "ef5cfb2e-83b9-470c-84c2-bec7fbdc7878",
   "metadata": {},
   "outputs": [],
   "source": [
    "retval=next(iter(test_loader))#[0].shape"
   ]
  },
  {
   "cell_type": "code",
   "execution_count": 5,
   "id": "03e8c821-96f3-4b6f-92d8-6308100ca77b",
   "metadata": {},
   "outputs": [],
   "source": [
    "inp,out=retval\n"
   ]
  },
  {
   "cell_type": "code",
   "execution_count": 6,
   "id": "376091a7-1340-4ee4-8b25-483c80a25c72",
   "metadata": {},
   "outputs": [
    {
     "data": {
      "text/plain": [
       "(torch.Size([1024, 27]),\n",
       " torch.Size([1024, 11, 1900]),\n",
       " torch.Size([1024, 11, 1900]),\n",
       " torch.Size([1024, 11, 23]),\n",
       " torch.Size([1024]))"
      ]
     },
     "execution_count": 6,
     "metadata": {},
     "output_type": "execute_result"
    }
   ],
   "source": [
    "inp[0].shape, inp[1].shape, inp[2].shape, inp[3].shape, out.shape"
   ]
  },
  {
   "cell_type": "code",
   "execution_count": 18,
   "id": "5fd755c7-fc48-46c9-b983-e8eb7827d147",
   "metadata": {},
   "outputs": [],
   "source": [
    "model=DensityPredictor(input_size_thermo=retval[0][0].shape[1],\n",
    "                   input_size_fism2_flare=retval[0][1].shape[-1],\n",
    "                   input_size_fism2_daily=retval[0][2].shape[-1],\n",
    "                   input_size_omni=retval[0][3].shape[-1],\n",
    "                   output_size_fism2_flare=10,\n",
    "                   output_size_fism2_daily=10,\n",
    "                   output_size_omni=retval[0][3].shape[-1],dropout=0)"
   ]
  },
  {
   "cell_type": "code",
   "execution_count": 12,
   "id": "90ddcaa0-7c43-4956-a64f-38dd67eec35f",
   "metadata": {},
   "outputs": [
    {
     "name": "stdout",
     "output_type": "stream",
     "text": [
      "torch.Size([1024, 10]) torch.Size([1024, 10]) torch.Size([1024, 23])\n"
     ]
    }
   ],
   "source": [
    "out_fism2_flare=model.model_lstm_fism2_flare(inp[1])\n",
    "out_fism2_daily=model.model_lstm_fism2_flare(inp[2])\n",
    "out_omni=model.model_lstm_omni.forward(inp[3])\n",
    "print(out_fism2_flare.shape, out_fism2_daily.shape, out_omni.shape)"
   ]
  },
  {
   "cell_type": "code",
   "execution_count": 19,
   "id": "002d0083-ab6b-4bb4-aa37-a222ab294e65",
   "metadata": {},
   "outputs": [
    {
     "data": {
      "text/plain": [
       "torch.Size([1024, 1])"
      ]
     },
     "execution_count": 19,
     "metadata": {},
     "output_type": "execute_result"
    }
   ],
   "source": [
    "model(inp).shape"
   ]
  },
  {
   "cell_type": "code",
   "execution_count": 7,
   "id": "f0f24cf0-202d-4c5a-969b-d99ecfae80a7",
   "metadata": {},
   "outputs": [],
   "source": [
    "from karman import FFNN\n",
    "from torch import optim\n",
    "#optimizer=optim.Adam(model.parameters(), lr=1e-4, weight_decay=0.)\n",
    "#model = FFNN(num_features=len(dataset[0][0]))\n"
   ]
  },
  {
   "cell_type": "code",
   "execution_count": null,
   "id": "bb39841d-b58f-405a-9b09-37f5eba8c54d",
   "metadata": {},
   "outputs": [],
   "source": []
  }
 ],
 "metadata": {
  "environment": {
   "kernel": "python3",
   "name": "common-cpu.m93",
   "type": "gcloud",
   "uri": "gcr.io/deeplearning-platform-release/base-cpu:m93"
  },
  "kernelspec": {
   "display_name": "Python 3",
   "language": "python",
   "name": "python3"
  },
  "language_info": {
   "codemirror_mode": {
    "name": "ipython",
    "version": 3
   },
   "file_extension": ".py",
   "mimetype": "text/x-python",
   "name": "python",
   "nbconvert_exporter": "python",
   "pygments_lexer": "ipython3",
   "version": "3.7.12"
  }
 },
 "nbformat": 4,
 "nbformat_minor": 5
}
