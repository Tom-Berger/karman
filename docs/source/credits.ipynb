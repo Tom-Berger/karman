{
 "cells": [
  {
   "cell_type": "markdown",
   "id": "09ed2d22",
   "metadata": {},
   "source": [
    "# Credits"
   ]
  },
  {
   "cell_type": "markdown",
   "id": "641fefde",
   "metadata": {},
   "source": [
    "Karman was developed as a result of several NASA-funded studies. It has been initially enabled in the framework of the [Frontier Development Lab](https://frontierdevelopmentlab.org/), a private-public partnership between [Trillium Technologies](https://trillium.tech/), NASA, and SETI Institute, and then further developed by Trillium Technologies & NASA through a NASA Sole Source funded study.\n",
    "\n",
    "The main developers are: Giacomo Acciarini ( giacomo.acciarini@gmail.com ), Edward Brown ( edward.j.e.brown@gmail.com ), Atılım Güneş Baydin ( gunes@robots.ox.ac.uk ).\n",
    "\n",
    "We would like to thank Dr. Madhulika Guhathakurta and Dr. Thomas Berger for sharing their technical expertise and for their continuous support."
   ]
  }
 ],
 "metadata": {
  "kernelspec": {
   "display_name": "Python 3 (ipykernel)",
   "language": "python",
   "name": "python3"
  },
  "language_info": {
   "codemirror_mode": {
    "name": "ipython",
    "version": 3
   },
   "file_extension": ".py",
   "mimetype": "text/x-python",
   "name": "python",
   "nbconvert_exporter": "python",
   "pygments_lexer": "ipython3",
   "version": "3.8.16"
  }
 },
 "nbformat": 4,
 "nbformat_minor": 5
}
