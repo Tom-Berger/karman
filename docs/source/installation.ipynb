{
 "cells": [
  {
   "cell_type": "markdown",
   "id": "b4369f07",
   "metadata": {},
   "source": [
    "# Installation"
   ]
  },
  {
   "cell_type": "markdown",
   "id": "73a34d75",
   "metadata": {},
   "source": [
    "## Prerequisites"
   ]
  },
  {
   "cell_type": "markdown",
   "id": "7557de26",
   "metadata": {},
   "source": [
    "Karman has the following dependencies:\n",
    "\n",
    "* [Numpy](https://numpy.org/)\n",
    "* [Pandas](https://pandas.pydata.org/)\n",
    "* [Pytorch](https://pytorch.org/)\n",
    "* [Pyfiglet](https://github.com/pwaller/pyfiglet)\n",
    "* [Tqdm](https://github.com/tqdm/tqdm)\n",
    "* [Termcolor](https://pypi.org/project/termcolor/)\n",
    "* [Tables](https://pypi.org/project/tables/)"
   ]
  },
  {
   "cell_type": "markdown",
   "id": "27815648",
   "metadata": {},
   "source": [
    "## Karman Installation"
   ]
  },
  {
   "cell_type": "markdown",
   "id": "5837debf",
   "metadata": {},
   "source": [
    "```\n",
    "git clone https://github.com/spaceml-org/karman.git\n",
    "cd karman\n",
    "pip install -e .\n",
    "```"
   ]
  }
 ],
 "metadata": {
  "kernelspec": {
   "display_name": "Python 3 (ipykernel)",
   "language": "python",
   "name": "python3"
  },
  "language_info": {
   "codemirror_mode": {
    "name": "ipython",
    "version": 3
   },
   "file_extension": ".py",
   "mimetype": "text/x-python",
   "name": "python",
   "nbconvert_exporter": "python",
   "pygments_lexer": "ipython3",
   "version": "3.8.16"
  }
 },
 "nbformat": 4,
 "nbformat_minor": 5
}
