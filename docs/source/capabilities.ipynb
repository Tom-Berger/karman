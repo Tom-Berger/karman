{
 "cells": [
  {
   "cell_type": "markdown",
   "id": "7ee621cf",
   "metadata": {},
   "source": [
    "# Capabilities"
   ]
  },
  {
   "cell_type": "markdown",
   "id": "6eca9487",
   "metadata": {},
   "source": [
    "Karman is an open-source Python package for thermospheric density prediction via ML models.\n",
    "\n",
    "It currently supports three main functionalities:\n",
    "* a dataset class that can ingest and pre-process solar data, geomagnetic data, thermospheric density data and empirical thermospheric density model data (in particular JB-08 and NRLMSISE-00);\n",
    "* a deep learning framework for training ML models on the above datasets\n",
    "* a set of benchmarking utilities to evaluate thermospheric density models at various altitudes, times, and geomagnetic storm conditions."
   ]
  }
 ],
 "metadata": {
  "kernelspec": {
   "display_name": "Python 3 (ipykernel)",
   "language": "python",
   "name": "python3"
  },
  "language_info": {
   "codemirror_mode": {
    "name": "ipython",
    "version": 3
   },
   "file_extension": ".py",
   "mimetype": "text/x-python",
   "name": "python",
   "nbconvert_exporter": "python",
   "pygments_lexer": "ipython3",
   "version": "3.8.16"
  }
 },
 "nbformat": 4,
 "nbformat_minor": 5
}
